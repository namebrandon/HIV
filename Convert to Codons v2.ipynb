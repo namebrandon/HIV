{
 "metadata": {
  "name": "",
  "signature": "sha256:1a3608ba8f234c3443129e3fc9b407fdea0e3e2bc3ce65f8d7cbae6d205695c8"
 },
 "nbformat": 3,
 "nbformat_minor": 0,
 "worksheets": [
  {
   "cells": [
    {
     "cell_type": "code",
     "collapsed": false,
     "input": [
      "#import some standard libraries\n",
      "      \n",
      "import matplotlib.pyplot as plt\n",
      "%matplotlib inline\n",
      "import numpy as np\n",
      "import pandas as pd\n",
      "from pandas import Series, DataFrame\n",
      "from sklearn import datasets, svm\n",
      "from patsy import dmatrices\n",
      "import statsmodels.api as sm\n",
      "from decimal import Decimal\n",
      "%pylab inline"
     ],
     "language": "python",
     "metadata": {},
     "outputs": [
      {
       "output_type": "stream",
       "stream": "stdout",
       "text": [
        "Populating the interactive namespace from numpy and matplotlib\n"
       ]
      }
     ],
     "prompt_number": 1
    },
    {
     "cell_type": "code",
     "collapsed": false,
     "input": [
      "#Note - Modify your path as appropriate\n",
      "\n",
      "#Windows Path\n",
      "train_aligned = pd.read_csv('E:\\\\Dropbox\\\\Kaggle\\\\HIV\\\\Nov24\\\\training_data_aligned_full.csv')\n",
      "\n",
      "#OSX Path\n",
      "#train_aligned = pd.read_csv('/Users/brandon/Dropbox/Kaggle/HIV/Nov24/training_data_aligned_full.csv')"
     ],
     "language": "python",
     "metadata": {},
     "outputs": [],
     "prompt_number": 29
    },
    {
     "cell_type": "code",
     "collapsed": false,
     "input": [
      "#iterate through all rows\n",
      "for index,row in train_aligned.iterrows():     \n",
      "    #initialize each variable as empty\n",
      "    codon = \"\"\n",
      "    new_column_name = \"\"\n",
      "\n",
      "  #create triple/codon columnns\n",
      "    for i in range(1,298):\n",
      "        column = \"PR_\"+str(i)\n",
      "        codon = codon + str(train_aligned[column][index])\n",
      "        if i % 3 == 0:\n",
      "            new_column_name = \"CODON_\"+str(i)\n",
      "            #print new_column_name + \\: \\ + codon\n",
      "            train_aligned.loc[index,new_column_name]=codon\n",
      "            #train_aligned[new_column_name][index]=codon\n",
      "            codon = \"\""
     ],
     "language": "python",
     "metadata": {},
     "outputs": [],
     "prompt_number": 30
    },
    {
     "cell_type": "code",
     "collapsed": false,
     "input": [
      "#drop individual columns\n",
      "for i in range(1,298):\n",
      "    column = \"PR_\"+str(i)\n",
      "    train_aligned.drop(column, axis=1, inplace=True)"
     ],
     "language": "python",
     "metadata": {},
     "outputs": [],
     "prompt_number": 36
    },
    {
     "cell_type": "code",
     "collapsed": false,
     "input": [],
     "language": "python",
     "metadata": {},
     "outputs": [
      {
       "html": [
        "<div style=\"max-height:1000px;max-width:1500px;overflow:auto;\">\n",
        "<table border=\"1\" class=\"dataframe\">\n",
        "  <thead>\n",
        "    <tr style=\"text-align: right;\">\n",
        "      <th></th>\n",
        "      <th>PatientID</th>\n",
        "      <th>Resp</th>\n",
        "      <th>PR Seq</th>\n",
        "      <th>RT Seq</th>\n",
        "      <th>VL-t0</th>\n",
        "      <th>CD4-t0</th>\n",
        "      <th>Consensus_Sequence</th>\n",
        "      <th>CODON_3</th>\n",
        "      <th>CODON_6</th>\n",
        "      <th>CODON_9</th>\n",
        "      <th>...</th>\n",
        "      <th>CODON_270</th>\n",
        "      <th>CODON_273</th>\n",
        "      <th>CODON_276</th>\n",
        "      <th>CODON_279</th>\n",
        "      <th>CODON_282</th>\n",
        "      <th>CODON_285</th>\n",
        "      <th>CODON_288</th>\n",
        "      <th>CODON_291</th>\n",
        "      <th>CODON_294</th>\n",
        "      <th>CODON_297</th>\n",
        "    </tr>\n",
        "  </thead>\n",
        "  <tbody>\n",
        "    <tr>\n",
        "      <th>0</th>\n",
        "      <td> 1</td>\n",
        "      <td> 0</td>\n",
        "      <td> CCTCAAATCACTCTTTGGCAACGACCCCTCGTCCCAATAAGGATAG...</td>\n",
        "      <td> CCCATTAGTCCTATTGAAACTGTACCAGTAAAGCTAAAGCCAGGAA...</td>\n",
        "      <td> 4.3</td>\n",
        "      <td> 145</td>\n",
        "      <td> CCTCAGATCACTCTTTGGCAACGACCCCTCGTCACAATAAAGATAG...</td>\n",
        "      <td> cct</td>\n",
        "      <td> caa</td>\n",
        "      <td> atc</td>\n",
        "      <td>...</td>\n",
        "      <td> ttg</td>\n",
        "      <td> act</td>\n",
        "      <td> cag</td>\n",
        "      <td> ctt</td>\n",
        "      <td> ggt</td>\n",
        "      <td> tgc</td>\n",
        "      <td> act</td>\n",
        "      <td> tta</td>\n",
        "      <td> aat</td>\n",
        "      <td> tty</td>\n",
        "    </tr>\n",
        "  </tbody>\n",
        "</table>\n",
        "<p>1 rows \u00d7 106 columns</p>\n",
        "</div>"
       ],
       "metadata": {},
       "output_type": "pyout",
       "prompt_number": 37,
       "text": [
        "   PatientID  Resp                                             PR Seq  \\\n",
        "0          1     0  CCTCAAATCACTCTTTGGCAACGACCCCTCGTCCCAATAAGGATAG...   \n",
        "\n",
        "                                              RT Seq  VL-t0  CD4-t0  \\\n",
        "0  CCCATTAGTCCTATTGAAACTGTACCAGTAAAGCTAAAGCCAGGAA...    4.3     145   \n",
        "\n",
        "                                  Consensus_Sequence CODON_3 CODON_6 CODON_9  \\\n",
        "0  CCTCAGATCACTCTTTGGCAACGACCCCTCGTCACAATAAAGATAG...     cct     caa     atc   \n",
        "\n",
        "    ...   CODON_270 CODON_273 CODON_276 CODON_279 CODON_282 CODON_285  \\\n",
        "0   ...         ttg       act       cag       ctt       ggt       tgc   \n",
        "\n",
        "  CODON_288 CODON_291 CODON_294 CODON_297  \n",
        "0       act       tta       aat       tty  \n",
        "\n",
        "[1 rows x 106 columns]"
       ]
      }
     ],
     "prompt_number": 37
    },
    {
     "cell_type": "code",
     "collapsed": false,
     "input": [
      "train_aligned.to_csv(\"E:\\\\Dropbox\\\\Kaggle\\\\HIV\\\\Nov24\\\\Full_Training_Aligned_PR_Codons.csv\")"
     ],
     "language": "python",
     "metadata": {},
     "outputs": [],
     "prompt_number": 38
    },
    {
     "cell_type": "code",
     "collapsed": false,
     "input": [],
     "language": "python",
     "metadata": {},
     "outputs": []
    }
   ],
   "metadata": {}
  }
 ]
}